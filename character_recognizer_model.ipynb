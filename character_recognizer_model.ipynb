{
  "nbformat": 4,
  "nbformat_minor": 0,
  "metadata": {
    "kernelspec": {
      "language": "python",
      "display_name": "Python 3",
      "name": "python3"
    },
    "language_info": {
      "pygments_lexer": "ipython3",
      "nbconvert_exporter": "python",
      "version": "3.6.4",
      "file_extension": ".py",
      "codemirror_mode": {
        "name": "ipython",
        "version": 3
      },
      "name": "python",
      "mimetype": "text/x-python"
    },
    "colab": {
      "name": "character-recognizer-model.ipynb",
      "provenance": [],
      "collapsed_sections": []
    },
    "accelerator": "GPU"
  },
  "cells": [
    {
      "cell_type": "markdown",
      "metadata": {
        "id": "g3FlHkQ3pceQ"
      },
      "source": [
        "# OCR Project:"
      ]
    },
    {
      "cell_type": "code",
      "metadata": {
        "_uuid": "8f2839f25d086af736a60e9eeb907d3b93b6e0e5",
        "_cell_guid": "b1076dfc-b9ad-4769-8c92-a6c4dae69d19",
        "trusted": true,
        "id": "SxizvGbgpceZ",
        "colab": {
          "base_uri": "https://localhost:8080/"
        },
        "outputId": "d26f2bde-90dd-478a-b659-e48fd15e45f8"
      },
      "source": [
        "# # This Python 3 environment comes with many helpful analytics libraries installed\n",
        "# # It is defined by the kaggle/python Docker image: https://github.com/kaggle/docker-python\n",
        "# # For example, here's several helpful packages to load\n",
        "\n",
        "# import numpy as np # linear algebra\n",
        "# import pandas as pd # data processing, CSV file I/O (e.g. pd.read_csv)\n",
        "\n",
        "# # Input data files are available in the read-only \"../input/\" directory\n",
        "# # For example, running this (by clicking run or pressing Shift+Enter) will list all files under the input directory\n",
        "\n",
        "# import os\n",
        "# for dirname, _, filenames in os.walk('/kaggle/input'):\n",
        "#     for filename in filenames:\n",
        "#         print(os.path.join(dirname, filename))\n",
        "\n",
        "# # You can write up to 20GB to the current directory (/kaggle/working/) that gets preserved as output when you create a version using \"Save & Run All\" \n",
        "\n",
        "# # You can also write temporary files to /kaggle/temp/, but they won't be saved outside of the current session\n",
        "\n",
        "\n",
        "!pip install --upgrade pip\n",
        "!pip install opencv-contrib-python\n",
        "\n",
        "!pip install imutils"
      ],
      "execution_count": null,
      "outputs": [
        {
          "output_type": "stream",
          "text": [
            "Collecting pip\n",
            "\u001b[?25l  Downloading https://files.pythonhosted.org/packages/de/47/58b9f3e6f611dfd17fb8bd9ed3e6f93b7ee662fb85bdfee3565e8979ddf7/pip-21.0-py3-none-any.whl (1.5MB)\n",
            "\r\u001b[K     |▏                               | 10kB 25.1MB/s eta 0:00:01\r\u001b[K     |▍                               | 20kB 17.1MB/s eta 0:00:01\r\u001b[K     |▋                               | 30kB 15.0MB/s eta 0:00:01\r\u001b[K     |▉                               | 40kB 13.6MB/s eta 0:00:01\r\u001b[K     |█                               | 51kB 9.5MB/s eta 0:00:01\r\u001b[K     |█▎                              | 61kB 9.9MB/s eta 0:00:01\r\u001b[K     |█▌                              | 71kB 10.0MB/s eta 0:00:01\r\u001b[K     |█▊                              | 81kB 11.1MB/s eta 0:00:01\r\u001b[K     |██                              | 92kB 10.4MB/s eta 0:00:01\r\u001b[K     |██▏                             | 102kB 9.2MB/s eta 0:00:01\r\u001b[K     |██▍                             | 112kB 9.2MB/s eta 0:00:01\r\u001b[K     |██▋                             | 122kB 9.2MB/s eta 0:00:01\r\u001b[K     |██▊                             | 133kB 9.2MB/s eta 0:00:01\r\u001b[K     |███                             | 143kB 9.2MB/s eta 0:00:01\r\u001b[K     |███▏                            | 153kB 9.2MB/s eta 0:00:01\r\u001b[K     |███▍                            | 163kB 9.2MB/s eta 0:00:01\r\u001b[K     |███▋                            | 174kB 9.2MB/s eta 0:00:01\r\u001b[K     |███▉                            | 184kB 9.2MB/s eta 0:00:01\r\u001b[K     |████                            | 194kB 9.2MB/s eta 0:00:01\r\u001b[K     |████▎                           | 204kB 9.2MB/s eta 0:00:01\r\u001b[K     |████▌                           | 215kB 9.2MB/s eta 0:00:01\r\u001b[K     |████▊                           | 225kB 9.2MB/s eta 0:00:01\r\u001b[K     |█████                           | 235kB 9.2MB/s eta 0:00:01\r\u001b[K     |█████▏                          | 245kB 9.2MB/s eta 0:00:01\r\u001b[K     |█████▎                          | 256kB 9.2MB/s eta 0:00:01\r\u001b[K     |█████▌                          | 266kB 9.2MB/s eta 0:00:01\r\u001b[K     |█████▊                          | 276kB 9.2MB/s eta 0:00:01\r\u001b[K     |██████                          | 286kB 9.2MB/s eta 0:00:01\r\u001b[K     |██████▏                         | 296kB 9.2MB/s eta 0:00:01\r\u001b[K     |██████▍                         | 307kB 9.2MB/s eta 0:00:01\r\u001b[K     |██████▋                         | 317kB 9.2MB/s eta 0:00:01\r\u001b[K     |██████▉                         | 327kB 9.2MB/s eta 0:00:01\r\u001b[K     |███████                         | 337kB 9.2MB/s eta 0:00:01\r\u001b[K     |███████▎                        | 348kB 9.2MB/s eta 0:00:01\r\u001b[K     |███████▌                        | 358kB 9.2MB/s eta 0:00:01\r\u001b[K     |███████▊                        | 368kB 9.2MB/s eta 0:00:01\r\u001b[K     |███████▉                        | 378kB 9.2MB/s eta 0:00:01\r\u001b[K     |████████                        | 389kB 9.2MB/s eta 0:00:01\r\u001b[K     |████████▎                       | 399kB 9.2MB/s eta 0:00:01\r\u001b[K     |████████▌                       | 409kB 9.2MB/s eta 0:00:01\r\u001b[K     |████████▊                       | 419kB 9.2MB/s eta 0:00:01\r\u001b[K     |█████████                       | 430kB 9.2MB/s eta 0:00:01\r\u001b[K     |█████████▏                      | 440kB 9.2MB/s eta 0:00:01\r\u001b[K     |█████████▍                      | 450kB 9.2MB/s eta 0:00:01\r\u001b[K     |█████████▋                      | 460kB 9.2MB/s eta 0:00:01\r\u001b[K     |█████████▉                      | 471kB 9.2MB/s eta 0:00:01\r\u001b[K     |██████████                      | 481kB 9.2MB/s eta 0:00:01\r\u001b[K     |██████████▎                     | 491kB 9.2MB/s eta 0:00:01\r\u001b[K     |██████████▍                     | 501kB 9.2MB/s eta 0:00:01\r\u001b[K     |██████████▋                     | 512kB 9.2MB/s eta 0:00:01\r\u001b[K     |██████████▉                     | 522kB 9.2MB/s eta 0:00:01\r\u001b[K     |███████████                     | 532kB 9.2MB/s eta 0:00:01\r\u001b[K     |███████████▎                    | 542kB 9.2MB/s eta 0:00:01\r\u001b[K     |███████████▌                    | 552kB 9.2MB/s eta 0:00:01\r\u001b[K     |███████████▊                    | 563kB 9.2MB/s eta 0:00:01\r\u001b[K     |████████████                    | 573kB 9.2MB/s eta 0:00:01\r\u001b[K     |████████████▏                   | 583kB 9.2MB/s eta 0:00:01\r\u001b[K     |████████████▍                   | 593kB 9.2MB/s eta 0:00:01\r\u001b[K     |████████████▋                   | 604kB 9.2MB/s eta 0:00:01\r\u001b[K     |████████████▉                   | 614kB 9.2MB/s eta 0:00:01\r\u001b[K     |█████████████                   | 624kB 9.2MB/s eta 0:00:01\r\u001b[K     |█████████████▏                  | 634kB 9.2MB/s eta 0:00:01\r\u001b[K     |█████████████▍                  | 645kB 9.2MB/s eta 0:00:01\r\u001b[K     |█████████████▋                  | 655kB 9.2MB/s eta 0:00:01\r\u001b[K     |█████████████▉                  | 665kB 9.2MB/s eta 0:00:01\r\u001b[K     |██████████████                  | 675kB 9.2MB/s eta 0:00:01\r\u001b[K     |██████████████▎                 | 686kB 9.2MB/s eta 0:00:01\r\u001b[K     |██████████████▌                 | 696kB 9.2MB/s eta 0:00:01\r\u001b[K     |██████████████▊                 | 706kB 9.2MB/s eta 0:00:01\r\u001b[K     |███████████████                 | 716kB 9.2MB/s eta 0:00:01\r\u001b[K     |███████████████▏                | 727kB 9.2MB/s eta 0:00:01\r\u001b[K     |███████████████▍                | 737kB 9.2MB/s eta 0:00:01\r\u001b[K     |███████████████▌                | 747kB 9.2MB/s eta 0:00:01\r\u001b[K     |███████████████▊                | 757kB 9.2MB/s eta 0:00:01\r\u001b[K     |████████████████                | 768kB 9.2MB/s eta 0:00:01\r\u001b[K     |████████████████▏               | 778kB 9.2MB/s eta 0:00:01\r\u001b[K     |████████████████▍               | 788kB 9.2MB/s eta 0:00:01\r\u001b[K     |████████████████▋               | 798kB 9.2MB/s eta 0:00:01\r\u001b[K     |████████████████▉               | 808kB 9.2MB/s eta 0:00:01\r\u001b[K     |█████████████████               | 819kB 9.2MB/s eta 0:00:01\r\u001b[K     |█████████████████▎              | 829kB 9.2MB/s eta 0:00:01\r\u001b[K     |█████████████████▌              | 839kB 9.2MB/s eta 0:00:01\r\u001b[K     |█████████████████▊              | 849kB 9.2MB/s eta 0:00:01\r\u001b[K     |██████████████████              | 860kB 9.2MB/s eta 0:00:01\r\u001b[K     |██████████████████              | 870kB 9.2MB/s eta 0:00:01\r\u001b[K     |██████████████████▎             | 880kB 9.2MB/s eta 0:00:01\r\u001b[K     |██████████████████▌             | 890kB 9.2MB/s eta 0:00:01\r\u001b[K     |██████████████████▊             | 901kB 9.2MB/s eta 0:00:01\r\u001b[K     |███████████████████             | 911kB 9.2MB/s eta 0:00:01\r\u001b[K     |███████████████████▏            | 921kB 9.2MB/s eta 0:00:01\r\u001b[K     |███████████████████▍            | 931kB 9.2MB/s eta 0:00:01\r\u001b[K     |███████████████████▋            | 942kB 9.2MB/s eta 0:00:01\r\u001b[K     |███████████████████▉            | 952kB 9.2MB/s eta 0:00:01\r\u001b[K     |████████████████████            | 962kB 9.2MB/s eta 0:00:01\r\u001b[K     |████████████████████▎           | 972kB 9.2MB/s eta 0:00:01\r\u001b[K     |████████████████████▌           | 983kB 9.2MB/s eta 0:00:01\r\u001b[K     |████████████████████▋           | 993kB 9.2MB/s eta 0:00:01\r\u001b[K     |████████████████████▉           | 1.0MB 9.2MB/s eta 0:00:01\r\u001b[K     |█████████████████████           | 1.0MB 9.2MB/s eta 0:00:01\r\u001b[K     |█████████████████████▎          | 1.0MB 9.2MB/s eta 0:00:01\r\u001b[K     |█████████████████████▌          | 1.0MB 9.2MB/s eta 0:00:01\r\u001b[K     |█████████████████████▊          | 1.0MB 9.2MB/s eta 0:00:01\r\u001b[K     |██████████████████████          | 1.1MB 9.2MB/s eta 0:00:01\r\u001b[K     |██████████████████████▏         | 1.1MB 9.2MB/s eta 0:00:01\r\u001b[K     |██████████████████████▍         | 1.1MB 9.2MB/s eta 0:00:01\r\u001b[K     |██████████████████████▋         | 1.1MB 9.2MB/s eta 0:00:01\r\u001b[K     |██████████████████████▉         | 1.1MB 9.2MB/s eta 0:00:01\r\u001b[K     |███████████████████████         | 1.1MB 9.2MB/s eta 0:00:01\r\u001b[K     |███████████████████████▎        | 1.1MB 9.2MB/s eta 0:00:01\r\u001b[K     |███████████████████████▍        | 1.1MB 9.2MB/s eta 0:00:01\r\u001b[K     |███████████████████████▋        | 1.1MB 9.2MB/s eta 0:00:01\r\u001b[K     |███████████████████████▉        | 1.1MB 9.2MB/s eta 0:00:01\r\u001b[K     |████████████████████████        | 1.2MB 9.2MB/s eta 0:00:01\r\u001b[K     |████████████████████████▎       | 1.2MB 9.2MB/s eta 0:00:01\r\u001b[K     |████████████████████████▌       | 1.2MB 9.2MB/s eta 0:00:01\r\u001b[K     |████████████████████████▊       | 1.2MB 9.2MB/s eta 0:00:01\r\u001b[K     |█████████████████████████       | 1.2MB 9.2MB/s eta 0:00:01\r\u001b[K     |█████████████████████████▏      | 1.2MB 9.2MB/s eta 0:00:01\r\u001b[K     |█████████████████████████▍      | 1.2MB 9.2MB/s eta 0:00:01\r\u001b[K     |█████████████████████████▋      | 1.2MB 9.2MB/s eta 0:00:01\r\u001b[K     |█████████████████████████▉      | 1.2MB 9.2MB/s eta 0:00:01\r\u001b[K     |██████████████████████████      | 1.2MB 9.2MB/s eta 0:00:01\r\u001b[K     |██████████████████████████▏     | 1.3MB 9.2MB/s eta 0:00:01\r\u001b[K     |██████████████████████████▍     | 1.3MB 9.2MB/s eta 0:00:01\r\u001b[K     |██████████████████████████▋     | 1.3MB 9.2MB/s eta 0:00:01\r\u001b[K     |██████████████████████████▉     | 1.3MB 9.2MB/s eta 0:00:01\r\u001b[K     |███████████████████████████     | 1.3MB 9.2MB/s eta 0:00:01\r\u001b[K     |███████████████████████████▎    | 1.3MB 9.2MB/s eta 0:00:01\r\u001b[K     |███████████████████████████▌    | 1.3MB 9.2MB/s eta 0:00:01\r\u001b[K     |███████████████████████████▊    | 1.3MB 9.2MB/s eta 0:00:01\r\u001b[K     |████████████████████████████    | 1.3MB 9.2MB/s eta 0:00:01\r\u001b[K     |████████████████████████████▏   | 1.4MB 9.2MB/s eta 0:00:01\r\u001b[K     |████████████████████████████▍   | 1.4MB 9.2MB/s eta 0:00:01\r\u001b[K     |████████████████████████████▌   | 1.4MB 9.2MB/s eta 0:00:01\r\u001b[K     |████████████████████████████▊   | 1.4MB 9.2MB/s eta 0:00:01\r\u001b[K     |█████████████████████████████   | 1.4MB 9.2MB/s eta 0:00:01\r\u001b[K     |█████████████████████████████▏  | 1.4MB 9.2MB/s eta 0:00:01\r\u001b[K     |█████████████████████████████▍  | 1.4MB 9.2MB/s eta 0:00:01\r\u001b[K     |█████████████████████████████▋  | 1.4MB 9.2MB/s eta 0:00:01\r\u001b[K     |█████████████████████████████▉  | 1.4MB 9.2MB/s eta 0:00:01\r\u001b[K     |██████████████████████████████  | 1.4MB 9.2MB/s eta 0:00:01\r\u001b[K     |██████████████████████████████▎ | 1.5MB 9.2MB/s eta 0:00:01\r\u001b[K     |██████████████████████████████▌ | 1.5MB 9.2MB/s eta 0:00:01\r\u001b[K     |██████████████████████████████▊ | 1.5MB 9.2MB/s eta 0:00:01\r\u001b[K     |███████████████████████████████ | 1.5MB 9.2MB/s eta 0:00:01\r\u001b[K     |███████████████████████████████ | 1.5MB 9.2MB/s eta 0:00:01\r\u001b[K     |███████████████████████████████▎| 1.5MB 9.2MB/s eta 0:00:01\r\u001b[K     |███████████████████████████████▌| 1.5MB 9.2MB/s eta 0:00:01\r\u001b[K     |███████████████████████████████▊| 1.5MB 9.2MB/s eta 0:00:01\r\u001b[K     |████████████████████████████████| 1.5MB 9.2MB/s eta 0:00:01\r\u001b[K     |████████████████████████████████| 1.5MB 9.2MB/s \n",
            "\u001b[?25hInstalling collected packages: pip\n",
            "  Found existing installation: pip 19.3.1\n",
            "    Uninstalling pip-19.3.1:\n",
            "      Successfully uninstalled pip-19.3.1\n",
            "Successfully installed pip-21.0\n",
            "Requirement already satisfied: opencv-contrib-python in /usr/local/lib/python3.6/dist-packages (4.1.2.30)\n",
            "Requirement already satisfied: numpy>=1.11.3 in /usr/local/lib/python3.6/dist-packages (from opencv-contrib-python) (1.19.5)\n",
            "Requirement already satisfied: imutils in /usr/local/lib/python3.6/dist-packages (0.5.4)\n"
          ],
          "name": "stdout"
        }
      ]
    },
    {
      "cell_type": "code",
      "metadata": {
        "_uuid": "d629ff2d2480ee46fbb7e2d37f6b5fab8052498a",
        "_cell_guid": "79c7e3d0-c299-4dcb-8224-4455121ee9b0",
        "trusted": true,
        "id": "h--j1M_Gpcea"
      },
      "source": [
        "# imports\n",
        "\n",
        "import matplotlib\n",
        "matplotlib.use(\"Agg\")\n",
        "import tensorflow as tf\n",
        "from tensorflow.keras.preprocessing.image import ImageDataGenerator\n",
        "from tensorflow.keras.optimizers import SGD\n",
        "from sklearn.preprocessing import LabelBinarizer\n",
        "from sklearn.model_selection import train_test_split\n",
        "from sklearn.metrics import classification_report\n",
        "from imutils import build_montages\n",
        "import matplotlib.pyplot as plt\n",
        "import numpy as np\n",
        "import argparse\n",
        "import cv2\n",
        "from tensorflow.keras.datasets import mnist\n",
        "from keras.applications.resnet import ResNet50\n",
        "from tensorflow.keras.layers import AveragePooling2D\n",
        "from tensorflow.keras.layers import Dropout\n",
        "from tensorflow.keras.layers import Flatten\n",
        "from tensorflow.keras.layers import Dense\n",
        "from tensorflow.keras.layers import Input\n",
        "from tensorflow.keras.models import Model\n",
        "from tensorflow.keras.optimizers import Adam"
      ],
      "execution_count": null,
      "outputs": []
    },
    {
      "cell_type": "code",
      "metadata": {
        "id": "kU_rORR6tLFj",
        "colab": {
          "base_uri": "https://localhost:8080/"
        },
        "outputId": "246c6f2f-172e-4416-94ba-2f027946dc6c"
      },
      "source": [
        "from google.colab import drive\n",
        "drive.mount('/content/drive')"
      ],
      "execution_count": null,
      "outputs": [
        {
          "output_type": "stream",
          "text": [
            "Mounted at /content/drive\n"
          ],
          "name": "stdout"
        }
      ]
    },
    {
      "cell_type": "markdown",
      "metadata": {
        "id": "-F2WfTv2pceb"
      },
      "source": [
        "### Loading Datasets:"
      ]
    },
    {
      "cell_type": "code",
      "metadata": {
        "trusted": true,
        "id": "lu47g3Alpceb"
      },
      "source": [
        "# Load Kaggle A-Z dataset\n",
        "\n",
        "def load_az_dataset (datasetPath):\n",
        "    data = []\n",
        "    labels = []\n",
        "    \n",
        "    for row in open(datasetPath):\n",
        "        #print(\"HI\")\n",
        "        row = row.split(\",\")\n",
        "        label = int(row[0])\n",
        "        image = np.array([int(x) for x in row[1:]], dtype = \"uint8\")\n",
        "        \n",
        "        image = image.reshape((28, 28))\n",
        "        \n",
        "        data.append(image)\n",
        "        labels.append(label)\n",
        "        \n",
        "    data = np.array(data, dtype = \"float32\")\n",
        "    labels = np.array(labels, dtype = \"int\")\n",
        "        \n",
        "    return (data, labels)"
      ],
      "execution_count": null,
      "outputs": []
    },
    {
      "cell_type": "code",
      "metadata": {
        "trusted": true,
        "id": "25PgmOpTpceb"
      },
      "source": [
        "def load_mnist_dataset ():\n",
        "    ((trainData, trainLabels), (testData, testLabels)) = mnist.load_data()\n",
        "    data = np.vstack([trainData, testData])\n",
        "    labels = np.hstack([trainLabels, testLabels])\n",
        "    \n",
        "    return (data, labels)"
      ],
      "execution_count": null,
      "outputs": []
    },
    {
      "cell_type": "markdown",
      "metadata": {
        "id": "VLU5OB4Fpcec"
      },
      "source": [
        "### Training Model:"
      ]
    },
    {
      "cell_type": "code",
      "metadata": {
        "trusted": true,
        "id": "mwIL_ZpRpcec",
        "colab": {
          "base_uri": "https://localhost:8080/"
        },
        "outputId": "15b7dcc1-ee8b-4bfb-e761-809f7df32a0d"
      },
      "source": [
        "EPOCHS = 300\n",
        "INIT_LR = 3e-1\n",
        "BS = 128\n",
        "\n",
        "print(\"[INFO] loading datasets...\")\n",
        "(azData, azLabels) = load_az_dataset(\"/content/drive/MyDrive/Colab Notebooks/Character Recog/A_Z Handwritten Data.csv\")\n",
        "(digitsData, digitsLabels) = load_mnist_dataset()"
      ],
      "execution_count": null,
      "outputs": [
        {
          "output_type": "stream",
          "text": [
            "[INFO] loading datasets...\n",
            "Downloading data from https://storage.googleapis.com/tensorflow/tf-keras-datasets/mnist.npz\n",
            "11493376/11490434 [==============================] - 0s 0us/step\n"
          ],
          "name": "stdout"
        }
      ]
    },
    {
      "cell_type": "code",
      "metadata": {
        "trusted": true,
        "id": "4WDPeNK0pcec"
      },
      "source": [
        "azLabels += 10\n",
        "\n",
        "data = np.vstack([azData, digitsData])\n",
        "labels = np.hstack([azLabels, digitsLabels])\n",
        "\n",
        "data = [cv2.resize(image, (32, 32)) for image in data]\n",
        "data = np.array(data, dtype = \"float32\")\n",
        "\n",
        "data = np.expand_dims(data, axis = -1)\n",
        "data /= 255.0"
      ],
      "execution_count": null,
      "outputs": []
    },
    {
      "cell_type": "code",
      "metadata": {
        "trusted": true,
        "id": "sEh267Bfpced"
      },
      "source": [
        "le = LabelBinarizer()\n",
        "labels = le.fit_transform(labels)\n",
        "counts = labels.sum(axis = 0)\n",
        "classTotals = labels.sum(axis = 0)\n",
        "classWeight = {}\n",
        "\n",
        "for i in range(0, len(classTotals)):\n",
        "    classWeight[i] = classTotals.max() / classTotals[i]\n",
        "  \n",
        "(trainX, testX, trainY, testY) = train_test_split(data, labels, test_size = 0.20, random_state = 42)"
      ],
      "execution_count": null,
      "outputs": []
    },
    {
      "cell_type": "code",
      "metadata": {
        "trusted": true,
        "id": "mUfQqd5jpced"
      },
      "source": [
        "aug = ImageDataGenerator(\n",
        "    rotation_range = 10,\n",
        "    zoom_range = 0.05,\n",
        "    width_shift_range = 0.1,\n",
        "    height_shift_range = 0.1,\n",
        "    shear_range = 0.15,\n",
        "    horizontal_flip = False,\n",
        "    fill_mode = \"nearest\" )"
      ],
      "execution_count": null,
      "outputs": []
    },
    {
      "cell_type": "code",
      "metadata": {
        "trusted": true,
        "id": "EPWtFyf1pced",
        "colab": {
          "base_uri": "https://localhost:8080/"
        },
        "outputId": "3f6601f6-5069-4139-c0f4-61c72805deb5"
      },
      "source": [
        "trainSize = 100000 #change to increase training set size\n",
        "testSize = 20000 #change to increase test size\n",
        "\n",
        "trainX = trainX[:trainSize, ...]\n",
        "trainY = trainY[:trainSize, ...]\n",
        "\n",
        "print(trainX.shape)\n",
        "\n",
        "testX = testX[:testSize, ...]\n",
        "testY = testY[:testSize, ...]"
      ],
      "execution_count": null,
      "outputs": [
        {
          "output_type": "stream",
          "text": [
            "(100000, 32, 32, 1)\n"
          ],
          "name": "stdout"
        }
      ]
    },
    {
      "cell_type": "code",
      "metadata": {
        "trusted": true,
        "id": "SqMZ2hhepced"
      },
      "source": [
        "def ResNet_Model(a, b, c):\n",
        "    baseModel = ResNet50(weights = \"imagenet\", include_top = False, input_tensor = Input(shape = (32, 32, 3)))\n",
        "\n",
        "    headModel = baseModel.output\n",
        "    print(headModel.shape)\n",
        "    #headModel = AveragePooling2D(pool_size=(7, 7))(headModel)\n",
        "    headModel = Flatten(name=\"flatten\")(headModel)\n",
        "    headModel = Dense(256, activation=\"relu\")(headModel)\n",
        "    headModel = Dropout(0.5)(headModel)\n",
        "    headModel = Dense(len(le.classes_), activation=\"softmax\")(headModel)\n",
        "\n",
        "    model = Model(inputs=baseModel.input, outputs=headModel)\n",
        "    return model"
      ],
      "execution_count": null,
      "outputs": []
    },
    {
      "cell_type": "code",
      "metadata": {
        "trusted": true,
        "id": "Txk2ZGd2pcee",
        "colab": {
          "base_uri": "https://localhost:8080/"
        },
        "outputId": "d0c139aa-93eb-445e-889e-eb5588ed68e2"
      },
      "source": [
        "print(\"[INFO] compiling model...\")\n",
        "opt = SGD(lr = INIT_LR, decay = 1*INIT_LR / (3*EPOCHS))\n",
        "model = ResNet_Model(32, 32, 1)\n",
        "model.compile(loss = \"categorical_crossentropy\", optimizer = opt, metrics = [\"accuracy\"])"
      ],
      "execution_count": null,
      "outputs": [
        {
          "output_type": "stream",
          "text": [
            "[INFO] compiling model...\n",
            "Downloading data from https://storage.googleapis.com/tensorflow/keras-applications/resnet/resnet50_weights_tf_dim_ordering_tf_kernels_notop.h5\n",
            "94773248/94765736 [==============================] - 1s 0us/step\n",
            "(None, 1, 1, 2048)\n"
          ],
          "name": "stdout"
        }
      ]
    },
    {
      "cell_type": "code",
      "metadata": {
        "trusted": true,
        "id": "AfeXGdh2pcee",
        "colab": {
          "base_uri": "https://localhost:8080/"
        },
        "outputId": "67764c19-d010-4de7-b42e-3d7337baecdb"
      },
      "source": [
        "sh = trainX.shape[:]\n",
        "train_X = np.zeros([sh[0], sh[1], sh[2], 3])\n",
        "#print(train_X.shape)\n",
        "\n",
        "# for i in range(0, trainX.shape[0]):\n",
        "#     train_X[i, ...] = cv2.cvtColor(trainX[i, ...], cv2.COLOR_GRAY2BGR)\n",
        "\n",
        "train_X[..., :] = trainX\n",
        "\n",
        "# for i in range(0, sh[0]):\n",
        "#     for j in range(0, sh[1]):\n",
        "#         for k in range(0, sh[2]):\n",
        "#             train_X[i, j, k, :] = trainX[i, j, k, 0]\n",
        "#train_X = np.repeat(trainX[-1], 3, -1)\n",
        "print(train_X.shape)\n",
        "#trainY = np.repeat(trainY[-1], 3, -1)\n",
        "\n",
        "test_X = np.zeros([testX.shape[0], testX.shape[1], testX.shape[2], 3])\n",
        "\n",
        "# for i in range(0, testX.shape[0]):\n",
        "#     test_X[i, ...] = cv2.cvtColor(testX[i, ...], cv2.COLOR_GRAY2BGR)\n",
        "\n",
        "test_X[..., :] = testX\n",
        "# for i in range(0, testX.shape[0]):\n",
        "#     for j in range(0, testX.shape[1]):\n",
        "#         for k in range(0, testX.shape[2]):\n",
        "#             test_X[i, j, k, :] = testX[i, j, k, 0]\n",
        "print(test_X.shape)\n",
        "#testX = np.repeat(testX[-1], 3, -1)\n",
        "#testY = np.repeat(testY[-1], 3, -1)"
      ],
      "execution_count": null,
      "outputs": [
        {
          "output_type": "stream",
          "text": [
            "(100000, 32, 32, 3)\n",
            "(20000, 32, 32, 3)\n"
          ],
          "name": "stdout"
        }
      ]
    },
    {
      "cell_type": "code",
      "metadata": {
        "trusted": true,
        "id": "cz9H-601pcee"
      },
      "source": [
        "# train_X.shape"
      ],
      "execution_count": null,
      "outputs": []
    },
    {
      "cell_type": "code",
      "metadata": {
        "trusted": true,
        "id": "5EvV0ROWpcef"
      },
      "source": [
        "# model = tf.keras.models.load_model(\"../input/trained-model-file/Trained Character Recognizer Model\")"
      ],
      "execution_count": null,
      "outputs": []
    },
    {
      "cell_type": "code",
      "metadata": {
        "trusted": true,
        "_kg_hide-output": true,
        "id": "jT9xaBw-pcef",
        "colab": {
          "base_uri": "https://localhost:8080/"
        },
        "outputId": "b13d5599-4c2e-46ee-8416-5624756e0388"
      },
      "source": [
        "from numpy import argmax\n",
        "print(\"[INFO] training network...\")\n",
        "H = model.fit(\n",
        "    aug.flow(train_X, trainY, batch_size = BS),\n",
        "    validation_data = (test_X, testY),\n",
        "    steps_per_epoch = len(trainX) // BS,\n",
        "    epochs = EPOCHS,\n",
        "    class_weight = classWeight,\n",
        "    verbose = 1)\n",
        "\n",
        "labelNames = \"0123456789\"\n",
        "labelNames += \"ABCDEFGHIJKLMNOPQRSTUVWXYZ\"\n",
        "labelNames = [l for l in labelNames]\n",
        "\n",
        "#print(\"[INFO] evaluating network...\")\n",
        "#predictions = model.predict(test_X, batch_size = BS)\n",
        "#print(classification_report(testY, argmax(axis = 1), predictions.argmax(axis = 1), target_names = labelNames))"
      ],
      "execution_count": null,
      "outputs": [
        {
          "output_type": "stream",
          "text": [
            "[INFO] training network...\n",
            "Epoch 1/300\n",
            "781/781 [==============================] - 116s 133ms/step - loss: 56.1331 - accuracy: 0.0350 - val_loss: 3.4456 - val_accuracy: 0.0861\n",
            "Epoch 2/300\n",
            "781/781 [==============================] - 67s 85ms/step - loss: 16.5569 - accuracy: 0.0718 - val_loss: 3.3696 - val_accuracy: 0.1015\n",
            "Epoch 3/300\n",
            "781/781 [==============================] - 67s 86ms/step - loss: 16.3289 - accuracy: 0.0872 - val_loss: 3.2618 - val_accuracy: 0.0999\n",
            "Epoch 4/300\n",
            "781/781 [==============================] - 67s 86ms/step - loss: 15.9334 - accuracy: 0.0988 - val_loss: 3.0844 - val_accuracy: 0.1237\n",
            "Epoch 5/300\n",
            "781/781 [==============================] - 67s 86ms/step - loss: 15.2858 - accuracy: 0.1153 - val_loss: 2.8235 - val_accuracy: 0.1260\n",
            "Epoch 6/300\n",
            "781/781 [==============================] - 67s 86ms/step - loss: 14.6215 - accuracy: 0.1484 - val_loss: 2.6338 - val_accuracy: 0.2314\n",
            "Epoch 7/300\n",
            "781/781 [==============================] - 68s 87ms/step - loss: 13.8436 - accuracy: 0.1627 - val_loss: 2.5272 - val_accuracy: 0.2639\n",
            "Epoch 8/300\n",
            "781/781 [==============================] - 68s 87ms/step - loss: 13.1423 - accuracy: 0.1893 - val_loss: 2.5726 - val_accuracy: 0.2663\n",
            "Epoch 9/300\n",
            "781/781 [==============================] - 68s 87ms/step - loss: 12.4180 - accuracy: 0.2285 - val_loss: 2.1795 - val_accuracy: 0.3482\n",
            "Epoch 10/300\n",
            "781/781 [==============================] - 68s 87ms/step - loss: 11.7623 - accuracy: 0.2604 - val_loss: 2.3322 - val_accuracy: 0.3135\n",
            "Epoch 11/300\n",
            "781/781 [==============================] - 68s 87ms/step - loss: 11.2195 - accuracy: 0.2912 - val_loss: 3.1905 - val_accuracy: 0.2862\n",
            "Epoch 12/300\n",
            "781/781 [==============================] - 68s 87ms/step - loss: 10.8302 - accuracy: 0.3074 - val_loss: 1.8394 - val_accuracy: 0.4446\n",
            "Epoch 13/300\n",
            "781/781 [==============================] - 68s 87ms/step - loss: 10.3775 - accuracy: 0.3344 - val_loss: 1.8126 - val_accuracy: 0.4557\n",
            "Epoch 14/300\n",
            "781/781 [==============================] - 68s 87ms/step - loss: 9.9720 - accuracy: 0.3542 - val_loss: 1.6318 - val_accuracy: 0.5231\n",
            "Epoch 15/300\n",
            "781/781 [==============================] - 68s 87ms/step - loss: 9.4538 - accuracy: 0.3803 - val_loss: 1.5311 - val_accuracy: 0.5507\n",
            "Epoch 16/300\n",
            "781/781 [==============================] - 68s 87ms/step - loss: 9.1998 - accuracy: 0.4007 - val_loss: 1.6013 - val_accuracy: 0.5075\n",
            "Epoch 17/300\n",
            "781/781 [==============================] - 68s 87ms/step - loss: 8.6385 - accuracy: 0.4211 - val_loss: 1.5270 - val_accuracy: 0.5434\n",
            "Epoch 18/300\n",
            "781/781 [==============================] - 68s 87ms/step - loss: 8.4199 - accuracy: 0.4467 - val_loss: 1.4590 - val_accuracy: 0.5462\n",
            "Epoch 19/300\n",
            "781/781 [==============================] - 68s 87ms/step - loss: 8.0648 - accuracy: 0.4632 - val_loss: 1.3542 - val_accuracy: 0.5928\n",
            "Epoch 20/300\n",
            "781/781 [==============================] - 68s 87ms/step - loss: 7.7180 - accuracy: 0.4852 - val_loss: 1.3365 - val_accuracy: 0.5719\n",
            "Epoch 21/300\n",
            "781/781 [==============================] - 68s 87ms/step - loss: 7.4672 - accuracy: 0.4963 - val_loss: 1.3159 - val_accuracy: 0.5957\n",
            "Epoch 22/300\n",
            "781/781 [==============================] - 68s 87ms/step - loss: 7.2668 - accuracy: 0.5110 - val_loss: 1.1571 - val_accuracy: 0.5910\n",
            "Epoch 23/300\n",
            "781/781 [==============================] - 68s 87ms/step - loss: 7.0075 - accuracy: 0.5247 - val_loss: 1.2532 - val_accuracy: 0.6173\n",
            "Epoch 24/300\n",
            "781/781 [==============================] - 68s 87ms/step - loss: 6.8225 - accuracy: 0.5360 - val_loss: 1.1211 - val_accuracy: 0.6522\n",
            "Epoch 25/300\n",
            "781/781 [==============================] - 68s 87ms/step - loss: 6.5747 - accuracy: 0.5513 - val_loss: 1.0724 - val_accuracy: 0.6320\n",
            "Epoch 26/300\n",
            "781/781 [==============================] - 68s 87ms/step - loss: 6.3279 - accuracy: 0.5643 - val_loss: 1.0658 - val_accuracy: 0.6564\n",
            "Epoch 27/300\n",
            "781/781 [==============================] - 68s 87ms/step - loss: 6.1056 - accuracy: 0.5790 - val_loss: 1.0470 - val_accuracy: 0.6809\n",
            "Epoch 28/300\n",
            "781/781 [==============================] - 68s 87ms/step - loss: 5.9418 - accuracy: 0.5889 - val_loss: 1.0306 - val_accuracy: 0.6787\n",
            "Epoch 29/300\n",
            "781/781 [==============================] - 68s 87ms/step - loss: 5.7455 - accuracy: 0.6037 - val_loss: 0.8828 - val_accuracy: 0.7329\n",
            "Epoch 30/300\n",
            "781/781 [==============================] - 68s 87ms/step - loss: 5.6359 - accuracy: 0.6077 - val_loss: 0.9135 - val_accuracy: 0.7319\n",
            "Epoch 31/300\n",
            "781/781 [==============================] - 68s 87ms/step - loss: 5.5011 - accuracy: 0.6183 - val_loss: 0.8577 - val_accuracy: 0.7175\n",
            "Epoch 32/300\n",
            "781/781 [==============================] - 68s 87ms/step - loss: 5.2394 - accuracy: 0.6282 - val_loss: 0.8448 - val_accuracy: 0.7299\n",
            "Epoch 33/300\n",
            "781/781 [==============================] - 68s 87ms/step - loss: 5.1776 - accuracy: 0.6351 - val_loss: 0.8580 - val_accuracy: 0.7235\n",
            "Epoch 34/300\n",
            "781/781 [==============================] - 68s 87ms/step - loss: 5.0942 - accuracy: 0.6366 - val_loss: 0.7735 - val_accuracy: 0.7571\n",
            "Epoch 35/300\n",
            "781/781 [==============================] - 67s 86ms/step - loss: 4.9043 - accuracy: 0.6438 - val_loss: 0.8260 - val_accuracy: 0.7389\n",
            "Epoch 36/300\n",
            "781/781 [==============================] - 68s 86ms/step - loss: 4.8245 - accuracy: 0.6564 - val_loss: 0.8061 - val_accuracy: 0.7495\n",
            "Epoch 37/300\n",
            "781/781 [==============================] - 68s 87ms/step - loss: 4.8252 - accuracy: 0.6603 - val_loss: 0.7743 - val_accuracy: 0.7677\n",
            "Epoch 38/300\n",
            "781/781 [==============================] - 68s 87ms/step - loss: 4.6499 - accuracy: 0.6693 - val_loss: 0.7537 - val_accuracy: 0.7341\n",
            "Epoch 39/300\n",
            "781/781 [==============================] - 68s 87ms/step - loss: 4.5213 - accuracy: 0.6749 - val_loss: 0.7726 - val_accuracy: 0.7442\n",
            "Epoch 40/300\n",
            "781/781 [==============================] - 68s 87ms/step - loss: 4.4680 - accuracy: 0.6794 - val_loss: 0.7492 - val_accuracy: 0.7674\n",
            "Epoch 41/300\n",
            "781/781 [==============================] - 69s 88ms/step - loss: 4.3943 - accuracy: 0.6791 - val_loss: 0.6644 - val_accuracy: 0.7930\n",
            "Epoch 42/300\n",
            "781/781 [==============================] - 69s 88ms/step - loss: 4.2923 - accuracy: 0.6929 - val_loss: 0.6647 - val_accuracy: 0.7821\n",
            "Epoch 43/300\n",
            "781/781 [==============================] - 68s 87ms/step - loss: 4.2596 - accuracy: 0.6896 - val_loss: 0.6789 - val_accuracy: 0.7888\n",
            "Epoch 44/300\n",
            "781/781 [==============================] - 68s 87ms/step - loss: 4.1658 - accuracy: 0.7000 - val_loss: 0.7093 - val_accuracy: 0.7501\n",
            "Epoch 45/300\n",
            "781/781 [==============================] - 68s 87ms/step - loss: 4.1576 - accuracy: 0.6982 - val_loss: 0.6294 - val_accuracy: 0.8041\n",
            "Epoch 46/300\n",
            "781/781 [==============================] - 68s 87ms/step - loss: 3.9508 - accuracy: 0.7100 - val_loss: 0.6377 - val_accuracy: 0.7895\n",
            "Epoch 47/300\n",
            "781/781 [==============================] - 68s 87ms/step - loss: 3.9276 - accuracy: 0.7153 - val_loss: 0.6317 - val_accuracy: 0.7976\n",
            "Epoch 48/300\n",
            "781/781 [==============================] - 67s 86ms/step - loss: 3.9145 - accuracy: 0.7149 - val_loss: 0.6603 - val_accuracy: 0.7753\n",
            "Epoch 49/300\n",
            "781/781 [==============================] - 68s 87ms/step - loss: 3.8870 - accuracy: 0.7175 - val_loss: 0.6529 - val_accuracy: 0.7882\n",
            "Epoch 50/300\n",
            "781/781 [==============================] - 68s 87ms/step - loss: 3.8110 - accuracy: 0.7181 - val_loss: 0.5972 - val_accuracy: 0.8219\n",
            "Epoch 51/300\n",
            "781/781 [==============================] - 68s 88ms/step - loss: 3.6987 - accuracy: 0.7280 - val_loss: 0.6405 - val_accuracy: 0.7912\n",
            "Epoch 52/300\n",
            "781/781 [==============================] - 68s 88ms/step - loss: 3.7209 - accuracy: 0.7284 - val_loss: 0.5851 - val_accuracy: 0.8017\n",
            "Epoch 53/300\n",
            "781/781 [==============================] - 69s 88ms/step - loss: 3.6537 - accuracy: 0.7339 - val_loss: 0.6145 - val_accuracy: 0.7910\n",
            "Epoch 54/300\n",
            "781/781 [==============================] - 69s 89ms/step - loss: 3.6250 - accuracy: 0.7342 - val_loss: 0.5868 - val_accuracy: 0.7972\n",
            "Epoch 55/300\n",
            "781/781 [==============================] - 69s 88ms/step - loss: 3.5126 - accuracy: 0.7410 - val_loss: 0.6219 - val_accuracy: 0.7969\n",
            "Epoch 56/300\n",
            "781/781 [==============================] - 69s 88ms/step - loss: 3.5037 - accuracy: 0.7411 - val_loss: 0.5825 - val_accuracy: 0.8108\n",
            "Epoch 57/300\n",
            "781/781 [==============================] - 68s 88ms/step - loss: 3.4379 - accuracy: 0.7433 - val_loss: 0.5616 - val_accuracy: 0.8178\n",
            "Epoch 58/300\n",
            "781/781 [==============================] - 68s 88ms/step - loss: 3.3719 - accuracy: 0.7491 - val_loss: 0.5416 - val_accuracy: 0.8333\n",
            "Epoch 59/300\n",
            "781/781 [==============================] - 68s 87ms/step - loss: 3.4010 - accuracy: 0.7459 - val_loss: 0.5766 - val_accuracy: 0.7929\n",
            "Epoch 60/300\n",
            "781/781 [==============================] - 69s 88ms/step - loss: 3.3134 - accuracy: 0.7525 - val_loss: 0.5282 - val_accuracy: 0.8209\n",
            "Epoch 61/300\n",
            "781/781 [==============================] - 68s 87ms/step - loss: 3.2377 - accuracy: 0.7566 - val_loss: 0.5622 - val_accuracy: 0.8210\n",
            "Epoch 62/300\n",
            "781/781 [==============================] - 68s 87ms/step - loss: 3.2696 - accuracy: 0.7539 - val_loss: 0.5047 - val_accuracy: 0.8469\n",
            "Epoch 63/300\n",
            "781/781 [==============================] - 68s 87ms/step - loss: 3.2224 - accuracy: 0.7576 - val_loss: 0.5004 - val_accuracy: 0.8431\n",
            "Epoch 64/300\n",
            "781/781 [==============================] - 69s 88ms/step - loss: 3.1398 - accuracy: 0.7633 - val_loss: 0.5215 - val_accuracy: 0.8400\n",
            "Epoch 65/300\n",
            "781/781 [==============================] - 68s 87ms/step - loss: 3.1455 - accuracy: 0.7644 - val_loss: 0.5340 - val_accuracy: 0.8275\n",
            "Epoch 66/300\n",
            "781/781 [==============================] - 69s 88ms/step - loss: 3.1422 - accuracy: 0.7664 - val_loss: 0.5197 - val_accuracy: 0.8171\n",
            "Epoch 67/300\n",
            "781/781 [==============================] - 69s 88ms/step - loss: 3.1173 - accuracy: 0.7668 - val_loss: 0.5427 - val_accuracy: 0.8220\n",
            "Epoch 68/300\n",
            "781/781 [==============================] - 69s 88ms/step - loss: 3.0795 - accuracy: 0.7692 - val_loss: 0.5025 - val_accuracy: 0.8395\n",
            "Epoch 69/300\n",
            "781/781 [==============================] - 69s 88ms/step - loss: 2.9935 - accuracy: 0.7726 - val_loss: 0.5024 - val_accuracy: 0.8277\n",
            "Epoch 70/300\n",
            "781/781 [==============================] - 69s 88ms/step - loss: 3.0327 - accuracy: 0.7688 - val_loss: 0.4797 - val_accuracy: 0.8462\n",
            "Epoch 71/300\n",
            "781/781 [==============================] - 69s 88ms/step - loss: 2.9644 - accuracy: 0.7779 - val_loss: 0.4647 - val_accuracy: 0.8584\n",
            "Epoch 72/300\n",
            "781/781 [==============================] - 69s 88ms/step - loss: 2.9373 - accuracy: 0.7720 - val_loss: 0.5191 - val_accuracy: 0.8302\n",
            "Epoch 73/300\n",
            "781/781 [==============================] - 69s 88ms/step - loss: 2.9033 - accuracy: 0.7782 - val_loss: 0.4681 - val_accuracy: 0.8554\n",
            "Epoch 74/300\n",
            "781/781 [==============================] - 69s 88ms/step - loss: 2.9315 - accuracy: 0.7743 - val_loss: 0.4942 - val_accuracy: 0.8392\n",
            "Epoch 75/300\n",
            "781/781 [==============================] - 68s 88ms/step - loss: 2.9020 - accuracy: 0.7792 - val_loss: 0.5086 - val_accuracy: 0.8111\n",
            "Epoch 76/300\n",
            "781/781 [==============================] - 69s 88ms/step - loss: 2.8465 - accuracy: 0.7795 - val_loss: 0.4533 - val_accuracy: 0.8577\n",
            "Epoch 77/300\n",
            "781/781 [==============================] - 69s 88ms/step - loss: 2.8104 - accuracy: 0.7854 - val_loss: 0.4961 - val_accuracy: 0.8281\n",
            "Epoch 78/300\n",
            "781/781 [==============================] - 69s 88ms/step - loss: 2.7660 - accuracy: 0.7848 - val_loss: 0.5218 - val_accuracy: 0.8274\n",
            "Epoch 79/300\n",
            "781/781 [==============================] - 69s 88ms/step - loss: 2.7723 - accuracy: 0.7859 - val_loss: 0.4646 - val_accuracy: 0.8515\n",
            "Epoch 80/300\n",
            "781/781 [==============================] - 69s 88ms/step - loss: 2.7523 - accuracy: 0.7878 - val_loss: 0.4544 - val_accuracy: 0.8504\n",
            "Epoch 81/300\n",
            "781/781 [==============================] - 69s 88ms/step - loss: 2.7070 - accuracy: 0.7906 - val_loss: 0.4562 - val_accuracy: 0.8565\n",
            "Epoch 82/300\n",
            "781/781 [==============================] - 69s 88ms/step - loss: 2.7069 - accuracy: 0.7912 - val_loss: 0.4456 - val_accuracy: 0.8583\n",
            "Epoch 83/300\n",
            "781/781 [==============================] - 69s 88ms/step - loss: 2.7325 - accuracy: 0.7901 - val_loss: 0.4399 - val_accuracy: 0.8482\n",
            "Epoch 84/300\n",
            "781/781 [==============================] - 69s 88ms/step - loss: 2.6174 - accuracy: 0.7952 - val_loss: 0.4438 - val_accuracy: 0.8487\n",
            "Epoch 85/300\n",
            "781/781 [==============================] - 69s 88ms/step - loss: 2.7213 - accuracy: 0.7921 - val_loss: 0.4540 - val_accuracy: 0.8471\n",
            "Epoch 86/300\n",
            "781/781 [==============================] - 69s 88ms/step - loss: 2.6613 - accuracy: 0.7935 - val_loss: 0.5140 - val_accuracy: 0.8371\n",
            "Epoch 87/300\n",
            "781/781 [==============================] - 69s 88ms/step - loss: 2.6541 - accuracy: 0.7947 - val_loss: 0.4496 - val_accuracy: 0.8420\n",
            "Epoch 88/300\n",
            "781/781 [==============================] - 69s 88ms/step - loss: 2.5831 - accuracy: 0.8001 - val_loss: 0.4866 - val_accuracy: 0.8253\n",
            "Epoch 89/300\n",
            "781/781 [==============================] - 69s 88ms/step - loss: 2.6076 - accuracy: 0.7965 - val_loss: 0.4605 - val_accuracy: 0.8342\n",
            "Epoch 90/300\n",
            "781/781 [==============================] - 69s 88ms/step - loss: 2.6016 - accuracy: 0.7964 - val_loss: 0.4518 - val_accuracy: 0.8484\n",
            "Epoch 91/300\n",
            "781/781 [==============================] - 69s 88ms/step - loss: 2.5646 - accuracy: 0.7995 - val_loss: 0.4636 - val_accuracy: 0.8357\n",
            "Epoch 92/300\n",
            "781/781 [==============================] - 69s 88ms/step - loss: 2.5033 - accuracy: 0.8019 - val_loss: 0.4357 - val_accuracy: 0.8665\n",
            "Epoch 93/300\n",
            "781/781 [==============================] - 69s 88ms/step - loss: 2.5707 - accuracy: 0.8017 - val_loss: 0.4667 - val_accuracy: 0.8307\n",
            "Epoch 94/300\n",
            "781/781 [==============================] - 68s 88ms/step - loss: 2.4674 - accuracy: 0.8060 - val_loss: 0.4365 - val_accuracy: 0.8404\n",
            "Epoch 95/300\n",
            "781/781 [==============================] - 68s 88ms/step - loss: 2.5562 - accuracy: 0.8027 - val_loss: 0.4668 - val_accuracy: 0.8310\n",
            "Epoch 96/300\n",
            "781/781 [==============================] - 69s 88ms/step - loss: 2.4833 - accuracy: 0.8053 - val_loss: 0.4297 - val_accuracy: 0.8593\n",
            "Epoch 97/300\n",
            "781/781 [==============================] - 69s 88ms/step - loss: 2.4128 - accuracy: 0.8109 - val_loss: 0.4406 - val_accuracy: 0.8472\n",
            "Epoch 98/300\n",
            "781/781 [==============================] - 69s 88ms/step - loss: 2.4591 - accuracy: 0.8083 - val_loss: 0.3992 - val_accuracy: 0.8747\n",
            "Epoch 99/300\n",
            "781/781 [==============================] - 69s 88ms/step - loss: 2.4127 - accuracy: 0.8106 - val_loss: 0.4446 - val_accuracy: 0.8531\n",
            "Epoch 100/300\n",
            "781/781 [==============================] - 68s 88ms/step - loss: 2.4405 - accuracy: 0.8098 - val_loss: 0.4385 - val_accuracy: 0.8479\n",
            "Epoch 101/300\n",
            "781/781 [==============================] - 69s 88ms/step - loss: 2.4273 - accuracy: 0.8094 - val_loss: 0.4040 - val_accuracy: 0.8644\n",
            "Epoch 102/300\n",
            "781/781 [==============================] - 69s 88ms/step - loss: 2.3995 - accuracy: 0.8099 - val_loss: 0.4053 - val_accuracy: 0.8671\n",
            "Epoch 103/300\n",
            "781/781 [==============================] - 69s 88ms/step - loss: 2.3788 - accuracy: 0.8142 - val_loss: 0.4118 - val_accuracy: 0.8650\n",
            "Epoch 104/300\n",
            "781/781 [==============================] - 68s 88ms/step - loss: 2.3749 - accuracy: 0.8135 - val_loss: 0.4433 - val_accuracy: 0.8541\n",
            "Epoch 105/300\n",
            "781/781 [==============================] - 68s 88ms/step - loss: 2.3604 - accuracy: 0.8143 - val_loss: 0.4184 - val_accuracy: 0.8569\n",
            "Epoch 106/300\n",
            "781/781 [==============================] - 68s 87ms/step - loss: 2.3250 - accuracy: 0.8165 - val_loss: 0.4344 - val_accuracy: 0.8559\n",
            "Epoch 107/300\n",
            "781/781 [==============================] - 68s 87ms/step - loss: 2.3632 - accuracy: 0.8122 - val_loss: 0.4464 - val_accuracy: 0.8408\n",
            "Epoch 108/300\n",
            "781/781 [==============================] - 68s 87ms/step - loss: 2.3143 - accuracy: 0.8189 - val_loss: 0.4183 - val_accuracy: 0.8538\n",
            "Epoch 109/300\n",
            "781/781 [==============================] - 68s 87ms/step - loss: 2.3073 - accuracy: 0.8192 - val_loss: 0.4100 - val_accuracy: 0.8630\n",
            "Epoch 110/300\n",
            "781/781 [==============================] - 69s 88ms/step - loss: 2.3571 - accuracy: 0.8187 - val_loss: 0.4248 - val_accuracy: 0.8633\n",
            "Epoch 111/300\n",
            "781/781 [==============================] - 69s 88ms/step - loss: 2.2609 - accuracy: 0.8207 - val_loss: 0.4003 - val_accuracy: 0.8737\n",
            "Epoch 112/300\n",
            "781/781 [==============================] - 68s 88ms/step - loss: 2.2771 - accuracy: 0.8224 - val_loss: 0.4186 - val_accuracy: 0.8640\n",
            "Epoch 113/300\n",
            "781/781 [==============================] - 69s 88ms/step - loss: 2.2972 - accuracy: 0.8194 - val_loss: 0.3951 - val_accuracy: 0.8778\n",
            "Epoch 114/300\n",
            "781/781 [==============================] - 69s 88ms/step - loss: 2.2507 - accuracy: 0.8179 - val_loss: 0.3915 - val_accuracy: 0.8715\n",
            "Epoch 115/300\n",
            "781/781 [==============================] - 69s 88ms/step - loss: 2.3003 - accuracy: 0.8209 - val_loss: 0.5616 - val_accuracy: 0.8157\n",
            "Epoch 116/300\n",
            "781/781 [==============================] - 69s 89ms/step - loss: 2.2579 - accuracy: 0.8182 - val_loss: 0.4089 - val_accuracy: 0.8688\n",
            "Epoch 117/300\n",
            "781/781 [==============================] - 69s 88ms/step - loss: 2.2168 - accuracy: 0.8236 - val_loss: 0.4041 - val_accuracy: 0.8532\n",
            "Epoch 118/300\n",
            "781/781 [==============================] - 69s 88ms/step - loss: 2.2028 - accuracy: 0.8262 - val_loss: 0.3857 - val_accuracy: 0.8666\n",
            "Epoch 119/300\n",
            "627/781 [=======================>......] - ETA: 12s - loss: 2.1899 - accuracy: 0.8233"
          ],
          "name": "stdout"
        }
      ]
    },
    {
      "cell_type": "code",
      "metadata": {
        "trusted": true,
        "id": "YwCt_ZNDpceg"
      },
      "source": [
        "model.save(\"Trained Character Recognizer Model\", save_format = \"h5\")"
      ],
      "execution_count": null,
      "outputs": []
    },
    {
      "cell_type": "code",
      "metadata": {
        "trusted": true,
        "id": "dksWWsT9pceg"
      },
      "source": [
        "from numpy import argmax\n",
        "print(\"[INFO] evaluating network...\")\n",
        "predictions = model.predict(test_X, batch_size = BS)\n",
        "print(classification_report(testY.argmax(axis = 1), predictions.argmax(axis = 1), target_names = labelNames))"
      ],
      "execution_count": null,
      "outputs": []
    },
    {
      "cell_type": "code",
      "metadata": {
        "id": "br-dZz7T53uZ"
      },
      "source": [
        ""
      ],
      "execution_count": null,
      "outputs": []
    },
    {
      "cell_type": "code",
      "metadata": {
        "trusted": true,
        "id": "pTevVaS6pceg"
      },
      "source": [
        "N = np.arange(0, EPOCHS)\n",
        "plt.style.use(\"ggplot\")\n",
        "plt.figure()\n",
        "plt.plot(N, H.history[\"loss\"], label = \"train_loss\")\n",
        "plt.plot(N, H.history[\"val_loss\"], label = 'val_loss')\n",
        "plt.title(\"Training Loss and Accuracy\")\n",
        "plt.xlabel(\"Epoch #\")\n",
        "plt.ylabel(\"Loss/Accuracy\")\n",
        "plt.legend(loc = \"lower left\")\n",
        "plt.savefig(\"PLOT\")"
      ],
      "execution_count": null,
      "outputs": []
    },
    {
      "cell_type": "code",
      "metadata": {
        "trusted": true,
        "id": "R8ffM-Elpceg"
      },
      "source": [
        "labelNames = \"0123456789\"\n",
        "labelNames += \"ABCDEFGHIJKLMNOPQRSTUVWXYZ\"\n",
        "labelNames = [l for l in labelNames]"
      ],
      "execution_count": null,
      "outputs": []
    },
    {
      "cell_type": "code",
      "metadata": {
        "trusted": true,
        "id": "2Khyp73gpceh"
      },
      "source": [
        ""
      ],
      "execution_count": null,
      "outputs": []
    },
    {
      "cell_type": "code",
      "metadata": {
        "trusted": true,
        "id": "cECbn6Z4pceh"
      },
      "source": [
        "images = []\n",
        "\n",
        "for i in np.random.choice(np.arange(0, len(testY)), size = (49,)):\n",
        "    probs = model.predict(test_X[np.newaxis, i])\n",
        "    prediction = probs.argmax(axis = 1)\n",
        "    label = labelNames[prediction[0]]\n",
        "    \n",
        "    image = (testX[i] * 255).astype(\"uint8\")\n",
        "    color = (0, 255, 0)\n",
        "    \n",
        "    if prediction[0] != np.argmax(testY[i]):\n",
        "        color = (0, 0, 255)\n",
        "    \n",
        "    image = cv2.merge([image] * 3)\n",
        "    image = cv2.resize(image, (96, 96), interpolation = cv2.INTER_LINEAR)\n",
        "    cv2.putText(image, label, (5, 20), cv2.FONT_HERSHEY_SIMPLEX, 0.75, color, 2)\n",
        "    \n",
        "    images.append(image)\n",
        "\n",
        "montage = build_montages(images, (96, 96), (7, 7))[0]\n",
        "\n",
        "# plt.imshow(montage)\n",
        "# plt.show()\n",
        "\n",
        "cv2.imwrite(\"Montage.png\", montage)\n",
        "cv2.imshow(\"OCR Results\", montage) \n",
        "cv2.waitKey()\n",
        "#cv2.destroyAllWindows()"
      ],
      "execution_count": null,
      "outputs": []
    },
    {
      "cell_type": "code",
      "metadata": {
        "trusted": true,
        "id": "9cPh7g6npceh"
      },
      "source": [
        ""
      ],
      "execution_count": null,
      "outputs": []
    }
  ]
}